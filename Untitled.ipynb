{
 "cells": [
  {
   "cell_type": "markdown",
   "id": "98fe6b93-3395-47eb-a415-1181eb1810aa",
   "metadata": {},
   "source": [
    "#### Q1. Which function is used to open a file? What are the different modes of opening a file? Explain each mode of file opening."
   ]
  },
  {
   "cell_type": "markdown",
   "id": "07b67e7b-5dad-40e7-a824-dc987c14c1af",
   "metadata": {},
   "source": [
    "Open is an in built function that helps in building and operating a file.\n"
   ]
  },
  {
   "cell_type": "code",
   "execution_count": 1,
   "id": "5ca005e1-bfa1-442c-b6a0-d55d49f6bd02",
   "metadata": {},
   "outputs": [],
   "source": [
    "f=open(\"test.txt\",\"w\")"
   ]
  },
  {
   "cell_type": "markdown",
   "id": "93651156-2959-494e-8ded-9343f1930989",
   "metadata": {},
   "source": [
    "we can open a file in different modes.\n",
    "It defaults to 'r' which means open for reading in text\n",
    "mode.  Other common values are 'w' for writing (truncating the file if\n",
    "it already exists), 'x' for creating and writing to a new file, and\n",
    "'a' for appending "
   ]
  },
  {
   "cell_type": "markdown",
   "id": "ec180b3a-1045-4de1-8b10-5396a0f73d6c",
   "metadata": {},
   "source": [
    "### Q2. Why close() function is used? Why is it important to close a file?"
   ]
  },
  {
   "cell_type": "markdown",
   "id": "20bff235-819c-44f0-bcb6-c07c8ec5dc89",
   "metadata": {},
   "source": [
    "once we are done with writing the text in a file, it is imporatnt to close to.The text won't appear in a file unless the file is closed using close() function."
   ]
  },
  {
   "cell_type": "markdown",
   "id": "e33174b3-1fe5-4f90-bd89-782edf4dd105",
   "metadata": {},
   "source": [
    "following is an example of close() function."
   ]
  },
  {
   "cell_type": "code",
   "execution_count": 2,
   "id": "df8fa78b-4be8-41f9-b3b3-39ef706200fa",
   "metadata": {},
   "outputs": [
    {
     "data": {
      "text/plain": [
       "70"
      ]
     },
     "execution_count": 2,
     "metadata": {},
     "output_type": "execute_result"
    }
   ],
   "source": [
    "f.write(\"you can write your text in this function and it will added to the file\")"
   ]
  },
  {
   "cell_type": "code",
   "execution_count": 3,
   "id": "cd61d9a1-2bc2-4b83-827f-8e23aa121eca",
   "metadata": {},
   "outputs": [],
   "source": [
    "f.close()"
   ]
  },
  {
   "cell_type": "markdown",
   "id": "38489afd-ba76-48f5-a363-8596ddda7a0b",
   "metadata": {},
   "source": [
    "### Q3. Write a python program to create a text file. Write ‘I want to become a Data Scientist’ in that file. Then close the file. Open this file and read the content of the file."
   ]
  },
  {
   "cell_type": "code",
   "execution_count": 4,
   "id": "7e924ec3-1755-45c8-9d7a-7819073d0984",
   "metadata": {},
   "outputs": [],
   "source": [
    "f=open(\"test1.txt\",\"w\")"
   ]
  },
  {
   "cell_type": "code",
   "execution_count": 5,
   "id": "7acb4a26-55d2-48f0-a608-ec3399811c86",
   "metadata": {},
   "outputs": [
    {
     "data": {
      "text/plain": [
       "33"
      ]
     },
     "execution_count": 5,
     "metadata": {},
     "output_type": "execute_result"
    }
   ],
   "source": [
    "f.write(\"I want to become a Data Scientist\")"
   ]
  },
  {
   "cell_type": "code",
   "execution_count": 6,
   "id": "06b77790-86ce-4a44-82b4-67a7591af024",
   "metadata": {},
   "outputs": [],
   "source": [
    "f.close()"
   ]
  },
  {
   "cell_type": "code",
   "execution_count": 7,
   "id": "079189a7-76a1-4329-a758-5e3c985936a7",
   "metadata": {},
   "outputs": [],
   "source": [
    "f=open(\"test1.txt\",\"r\")"
   ]
  },
  {
   "cell_type": "code",
   "execution_count": 9,
   "id": "20cf3cbb-a7bd-49af-ae4d-2b70a2fe5111",
   "metadata": {},
   "outputs": [
    {
     "name": "stdout",
     "output_type": "stream",
     "text": [
      "I want to become a Data Scientist\n"
     ]
    }
   ],
   "source": [
    "print(f.read())"
   ]
  },
  {
   "cell_type": "markdown",
   "id": "3fa23d0a-c75b-4b74-8f4c-b63eac2554f5",
   "metadata": {},
   "source": [
    "### Q4. Explain the following with python code: read(), readline() and readlines()."
   ]
  },
  {
   "cell_type": "markdown",
   "id": "88a7beed-4718-4e16-a862-5ccbf36dd28a",
   "metadata": {},
   "source": [
    "The function read() will read the entire data in the file altogether.Whereas the readline() will read the data line-by-line.It will seperate each line-by-line.readlines() reads all the lines in the file and returns them as a list of strings."
   ]
  },
  {
   "cell_type": "code",
   "execution_count": 10,
   "id": "c0123568-7b89-447b-b87a-a23c229fb20b",
   "metadata": {},
   "outputs": [],
   "source": [
    "f=open(\"test1.txt\",\"a\")"
   ]
  },
  {
   "cell_type": "code",
   "execution_count": 19,
   "id": "3d8603d7-5049-43ea-9d42-4306202b5402",
   "metadata": {},
   "outputs": [
    {
     "data": {
      "text/plain": [
       "110"
      ]
     },
     "execution_count": 19,
     "metadata": {},
     "output_type": "execute_result"
    }
   ],
   "source": [
    "f.write(\"Data Science Masters course is highly curated and uniquely designed according to the latest industry standards\")"
   ]
  },
  {
   "cell_type": "code",
   "execution_count": 20,
   "id": "a895af0f-6799-43f9-bd87-7d24e149fa28",
   "metadata": {},
   "outputs": [],
   "source": [
    "data=open(\"test1.txt\",\"r\")"
   ]
  },
  {
   "cell_type": "code",
   "execution_count": 21,
   "id": "0b95814e-3d02-44f3-b40e-0b1afba7ecb6",
   "metadata": {},
   "outputs": [
    {
     "data": {
      "text/plain": [
       "'I want to become a Data ScientistData Science Masters course is highly curated and uniquely designed according to the latest industry standards'"
      ]
     },
     "execution_count": 21,
     "metadata": {},
     "output_type": "execute_result"
    }
   ],
   "source": [
    "data.read()"
   ]
  },
  {
   "cell_type": "code",
   "execution_count": 23,
   "id": "7091f520-8c72-4c0d-8dac-19af54f3ac9e",
   "metadata": {},
   "outputs": [
    {
     "data": {
      "text/plain": [
       "0"
      ]
     },
     "execution_count": 23,
     "metadata": {},
     "output_type": "execute_result"
    }
   ],
   "source": [
    "data.seek(0)"
   ]
  },
  {
   "cell_type": "code",
   "execution_count": 24,
   "id": "7447c018-c949-41f0-9380-7299965f928e",
   "metadata": {},
   "outputs": [
    {
     "data": {
      "text/plain": [
       "'I want to become a Data ScientistData Science Masters course is highly curated and uniquely designed according to the latest industry standards'"
      ]
     },
     "execution_count": 24,
     "metadata": {},
     "output_type": "execute_result"
    }
   ],
   "source": [
    "data.readline()"
   ]
  },
  {
   "cell_type": "code",
   "execution_count": 26,
   "id": "fef6f8c0-2e01-4529-9988-cdfec307b544",
   "metadata": {},
   "outputs": [
    {
     "data": {
      "text/plain": [
       "0"
      ]
     },
     "execution_count": 26,
     "metadata": {},
     "output_type": "execute_result"
    }
   ],
   "source": [
    "data.seek(0)"
   ]
  },
  {
   "cell_type": "code",
   "execution_count": 27,
   "id": "0ed4a3e4-f749-49ae-853e-b7ffd77b91ac",
   "metadata": {},
   "outputs": [
    {
     "data": {
      "text/plain": [
       "['I want to become a Data ScientistData Science Masters course is highly curated and uniquely designed according to the latest industry standards']"
      ]
     },
     "execution_count": 27,
     "metadata": {},
     "output_type": "execute_result"
    }
   ],
   "source": [
    "data.readlines()"
   ]
  },
  {
   "cell_type": "markdown",
   "id": "5bbbdc9c-474f-4b4e-868b-21fde603ee6c",
   "metadata": {},
   "source": [
    "### Q5. Explain why with statement is used with open(). What is the advantage of using with statement and open() together?"
   ]
  },
  {
   "cell_type": "markdown",
   "id": "373819ce-1b91-4947-a0d6-5d67629b7b54",
   "metadata": {},
   "source": [
    " The with statement in Python is used to create a context for execution of a code block. It allows for the automatic management of resources, such as files, sockets, and other objects, by handling the setup and teardown of these resources.\n",
    "\n",
    "In the case of the open() function, which is used for reading and writing files in Python, the with statement is commonly used to ensure that the file is automatically closed after the block of code has been executed. This is important because if a file is not properly closed after use, it can cause issues with data corruption and system resource allocation.\n",
    "\n",
    "Here's an example of how to use with statement and open() together to read a file:"
   ]
  },
  {
   "cell_type": "code",
   "execution_count": 28,
   "id": "0486be60-46ad-4046-bc39-564b6fd3ca58",
   "metadata": {},
   "outputs": [
    {
     "name": "stdout",
     "output_type": "stream",
     "text": [
      "I want to become a Data ScientistData Science Masters course is highly curated and uniquely designed according to the latest industry standards\n"
     ]
    }
   ],
   "source": [
    "with open(\"test1.txt\",\"r\") as f:\n",
    "    data=f.read()\n",
    "    print(data)"
   ]
  },
  {
   "cell_type": "markdown",
   "id": "33112b71-3d80-4a37-92e7-c20fe0a3d100",
   "metadata": {},
   "source": [
    "### Q6. Explain the write() and writelines() functions. Give a suitable example."
   ]
  },
  {
   "cell_type": "markdown",
   "id": "c955d862-a3b9-4d1b-a21c-7e2677fa9508",
   "metadata": {},
   "source": [
    "The write() and writelines() functions are used in Python to write data to a file.\n",
    "\n",
    "The write() function is used to write a single string to a file. It takes a string as an argument and writes it to the file at the current file position. If the file does not exist, it is created. If it exists, the write() function will overwrite the existing content with the new content.\n",
    "\n",
    "Here's an example of how to use write() function to write a string to a file:"
   ]
  },
  {
   "cell_type": "code",
   "execution_count": 31,
   "id": "aac6c523-49fb-4ae6-ac85-4916dfeaa0ed",
   "metadata": {},
   "outputs": [],
   "source": [
    "with open('test.txt', 'w') as file:\n",
    "    file.write('Hello, world!\\n')\n"
   ]
  },
  {
   "cell_type": "markdown",
   "id": "7e538af1-b652-4e2e-89e9-9fa63cbccd5f",
   "metadata": {},
   "source": [
    "In this example, the write() function is used to write the string \"Hello, world!\" to a file called \"example.txt\". The file is opened in write mode ('w') which creates the file if it does not exist, or overwrites the existing file if it does exist. The \\n character is used to add a new line after the text is written to the file.\n",
    "\n",
    "The writelines() function, on the other hand, is used to write a list of strings to a file. Each string in the list is written to the file at the current file position. If the file does not exist, it is created. If it exists, the writelines() function will overwrite the existing content with the new content.\n",
    "\n",
    "Here's an example of how to use writelines() function to write a list of strings to a file:"
   ]
  },
  {
   "cell_type": "code",
   "execution_count": 32,
   "id": "e0f8c66a-b010-4632-ac94-041ba23b7812",
   "metadata": {},
   "outputs": [],
   "source": [
    "with open('test.txt', 'w') as file:\n",
    "    lines = ['Hello, world!\\n', 'How are you?\\n', 'Goodbye!\\n']\n",
    "    file.writelines(lines)\n"
   ]
  }
 ],
 "metadata": {
  "kernelspec": {
   "display_name": "Python 3 (ipykernel)",
   "language": "python",
   "name": "python3"
  },
  "language_info": {
   "codemirror_mode": {
    "name": "ipython",
    "version": 3
   },
   "file_extension": ".py",
   "mimetype": "text/x-python",
   "name": "python",
   "nbconvert_exporter": "python",
   "pygments_lexer": "ipython3",
   "version": "3.10.8"
  }
 },
 "nbformat": 4,
 "nbformat_minor": 5
}
